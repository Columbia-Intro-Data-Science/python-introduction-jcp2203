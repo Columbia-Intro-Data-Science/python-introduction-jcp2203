{
 "cells": [
  {
   "cell_type": "code",
   "execution_count": 19,
   "metadata": {},
   "outputs": [
    {
     "data": {
      "text/plain": [
       "<matplotlib.legend.Legend at 0x2acc95fc160>"
      ]
     },
     "execution_count": 19,
     "metadata": {},
     "output_type": "execute_result"
    },
    {
     "data": {
      "image/png": "[encoded data removed]",
      "text/plain": [
       "<matplotlib.figure.Figure at 0x2acca91a6d8>"
      ]
     },
     "metadata": {},
     "output_type": "display_data"
    }
   ],
   "source": [
    "from pylab import *\n",
    "from scipy.optimize import curve_fit\n",
    "import numpy as np\n",
    "import matplotlib.pyplot as plt\n",
    "import peakutils\n",
    "\n",
    "data=concatenate((normal(1,.2,5000),normal(2,.2,2500)))\n",
    "y,x,_=hist(data,100,alpha=.3,label='data')\n",
    "\n",
    "x=(x[1:]+x[:-1])/2 # for len(x)==len(y)\n",
    "\n",
    "def gauss(x,mu,sigma,A):\n",
    "    return A*exp(-(x-mu)**2/2/sigma**2)\n",
    "\n",
    "def bimodal(x,mu1,sigma1,A1,mu2,sigma2,A2):\n",
    "    return gauss(x,mu1,sigma1,A1)+gauss(x,mu2,sigma2,A2)\n",
    "\n",
    "expected=(1,.2,250,2,.2,125)\n",
    "params,cov=curve_fit(bimodal,x,y,expected)\n",
    "sigma=sqrt(diag(cov))\n",
    "plot(x,bimodal(x,*params),color='red',lw=3,label='model')\n",
    "legend()"
   ]
  },
  {
   "cell_type": "code",
   "execution_count": 40,
   "metadata": {},
   "outputs": [],
   "source": [
    "y = bimodal(x,*params)"
   ]
  },
  {
   "cell_type": "code",
   "execution_count": 56,
   "metadata": {},
   "outputs": [
    {
     "name": "stdout",
     "output_type": "stream",
     "text": [
      "[30 73]\n",
      "1.0000528573586194 2.0068962281537135\n"
     ]
    }
   ],
   "source": [
    "indexes = peakutils.indexes(y, thres=0.2/max(y), min_dist=0)\n",
    "print(indexes)\n",
    "print(x[indexes[0]],x[indexes[1]])"
   ]
  },
  {
   "cell_type": "code",
   "execution_count": 57,
   "metadata": {},
   "outputs": [],
   "source": [
    "def find_peaks(y):\n",
    "  x = np.array(y)\n",
    "  max = np.max(x)\n",
    "  lenght = len(y)\n",
    "  ret = []\n",
    "  for i in range(lenght):\n",
    "      ispeak = True\n",
    "      if i-1 > 0:\n",
    "          ispeak &= (x[i] > 1.1 * x[i-1])\n",
    "      if i+1 < lenght:\n",
    "          ispeak &= (x[i] > 1.8 * x[i+1])\n",
    "\n",
    "      ispeak &= (x[i] > 0.05 * max)\n",
    "      if ispeak:\n",
    "          ret.append(i)\n",
    "  return ret"
   ]
  },
  {
   "cell_type": "code",
   "execution_count": 45,
   "metadata": {},
   "outputs": [
    {
     "data": {
      "text/plain": [
       "116.64937826377353"
      ]
     },
     "execution_count": 45,
     "metadata": {},
     "output_type": "execute_result"
    }
   ],
   "source": []
  },
  {
   "cell_type": "code",
   "execution_count": 53,
   "metadata": {},
   "outputs": [
    {
     "data": {
      "text/plain": [
       "1.0000528573586194"
      ]
     },
     "execution_count": 53,
     "metadata": {},
     "output_type": "execute_result"
    }
   ],
   "source": []
  },
  {
   "cell_type": "code",
   "execution_count": null,
   "metadata": {},
   "outputs": [],
   "source": []
  }
 ],
 "metadata": {
  "kernelspec": {
   "display_name": "Python 3",
   "language": "python",
   "name": "python3"
  },
  "language_info": {
   "codemirror_mode": {
    "name": "ipython",
    "version": 3
   },
   "file_extension": ".py",
   "mimetype": "text/x-python",
   "name": "python",
   "nbconvert_exporter": "python",
   "pygments_lexer": "ipython3",
   "version": "3.6.4"
  }
 },
 "nbformat": 4,
 "nbformat_minor": 2
}
