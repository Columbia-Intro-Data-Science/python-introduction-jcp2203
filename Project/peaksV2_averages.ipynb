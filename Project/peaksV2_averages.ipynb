{
 "cells": [
  {
   "cell_type": "code",
   "execution_count": 58,
   "metadata": {
    "scrolled": true
   },
   "outputs": [
    {
     "name": "stdout",
     "output_type": "stream",
     "text": [
      "68\n"
     ]
    }
   ],
   "source": [
    "import pandas as pd\n",
    "import numpy as np\n",
    "import matplotlib.image as mpimg\n",
    "import matplotlib.pyplot as plt\n",
    "import os, glob\n",
    "from PIL import Image\n",
    "from skimage import io, color\n",
    "import cv2 \n",
    "%matplotlib inline\n",
    "\n",
    "\n",
    "imgList1=[];# imgList2=[]; imgList3=[]; imgList4=[]; imgList5=[]; imgList6=[];\n",
    "labList1=[]; Pop = [];\n",
    "for filename in glob.glob('C:/Users/User/Documents/Class/Data Science/Project_pictures/Final_Images/MelanomaMimic/*.jpg'):\n",
    "    im = mpimg.imread(filename)\n",
    "    imgList1.append(im) #contains matrix of images\n",
    "    \n",
    "nfiles = len(imgList1)\n",
    "print(nfiles)"
   ]
  },
  {
   "cell_type": "code",
   "execution_count": 59,
   "metadata": {},
   "outputs": [],
   "source": [
    "cd = os.getcwd()"
   ]
  },
  {
   "cell_type": "code",
   "execution_count": 60,
   "metadata": {
    "scrolled": true
   },
   "outputs": [],
   "source": [
    "Xtrain = pd.read_csv(r'C:\\Users\\User\\Desktop\\TrainTestData\\Xtrain_data.csv')\n",
    "ytrain = pd.read_csv(r'C:\\Users\\User\\Desktop\\TrainTestData\\ytrain.csv')\n",
    "Xtest = pd.read_csv(r'C:\\Users\\User\\Desktop\\TrainTestData\\Xtest_data.csv')\n",
    "ytest = pd.read_csv(r'C:\\Users\\User\\Desktop\\TrainTestData\\ytest.csv')"
   ]
  },
  {
   "cell_type": "code",
   "execution_count": 61,
   "metadata": {},
   "outputs": [
    {
     "data": {
      "text/plain": [
       "'C:\\\\Users\\\\Valentin\\\\Documents\\\\Columbia University\\\\Courses\\\\Data Science for Industry\\\\Final project\\\\200with mask\\\\PIT\\\\Filtered_pit88.jpg'"
      ]
     },
     "execution_count": 61,
     "metadata": {},
     "output_type": "execute_result"
    }
   ],
   "source": [
    "Xtrain.loc[0][2]"
   ]
  },
  {
   "cell_type": "code",
   "execution_count": 62,
   "metadata": {},
   "outputs": [
    {
     "name": "stdout",
     "output_type": "stream",
     "text": [
      "c:\\User\\User\\Desktop\\TrainTestData\\FinalImages\\200with mask\\Filtered_pit132.jpg\n"
     ]
    }
   ],
   "source": [
    "base_dir = r'c:\\User\\User\\Desktop\\TrainTestData\\FinalImages\\200with mask'\n",
    "filename = Xtrain.loc[3][1]\n",
    "\n",
    "fullpath = os.path.join(base_dir, filename)\n",
    "print(fullpath)"
   ]
  },
  {
   "cell_type": "code",
   "execution_count": null,
   "metadata": {},
   "outputs": [],
   "source": []
  },
  {
   "cell_type": "code",
   "execution_count": 63,
   "metadata": {
    "scrolled": true
   },
   "outputs": [],
   "source": [
    "#n, bins, patches = plt.hist(lab[:,:,0], 100, normed=1, facecolor='green', alpha=0.75)\n",
    "#x = np.linspace(0.0, 30.0, num=1)\n",
    "lab = color.rgb2lab(rgb)\n",
    "#lab\n",
    "L = (lab[:,:,0])\n",
    "a = (lab[:,:,1])\n",
    "b = (lab[:,:,2])"
   ]
  },
  {
   "cell_type": "code",
   "execution_count": 86,
   "metadata": {},
   "outputs": [
    {
     "data": {
      "text/plain": [
       "[44.45383174336843, 15.44697541863478, 0.32777920850014985]"
      ]
     },
     "execution_count": 86,
     "metadata": {},
     "output_type": "execute_result"
    }
   ],
   "source": [
    "# make black = Nan\n",
    "l_temp = L\n",
    "l_temp[l_temp == 0] = float('nan')\n",
    "L = (l_temp)\n",
    "\n",
    "a_temp = a\n",
    "a_temp[a_temp == 0] = float('nan')\n",
    "a = (a_temp)\n",
    "\n",
    "b_temp = b\n",
    "b_temp[b_temp == 0] = float('nan')\n",
    "b = (b_temp)\n",
    "\n",
    "#update lab with Nan in black\n",
    "lab[:,:,0] = L\n",
    "lab[:,:,1] = a\n",
    "lab[:,:,2] = b\n",
    "\n",
    "Avg_L = np.mean(L[~np.isnan(L)])\n",
    "Avg_a = np.mean(a[~np.isnan(a)])\n",
    "Avg_b = np.mean(b[~np.isnan(b)])\n",
    "\n",
    "AVG = [Avg_L,Avg_a,Avg_b]\n",
    "AVG"
   ]
  },
  {
   "cell_type": "code",
   "execution_count": 87,
   "metadata": {
    "scrolled": true
   },
   "outputs": [
    {
     "ename": "ValueError",
     "evalue": "not enough values to unpack (expected 3, got 2)",
     "output_type": "error",
     "traceback": [
      "\u001b[1;31m---------------------------------------------------------------------------\u001b[0m",
      "\u001b[1;31mValueError\u001b[0m                                Traceback (most recent call last)",
      "\u001b[1;32m<ipython-input-87-354883d19c4f>\u001b[0m in \u001b[0;36m<module>\u001b[1;34m()\u001b[0m\n\u001b[0;32m      1\u001b[0m \u001b[1;31m#plot histogram of background-free segmented images\u001b[0m\u001b[1;33m\u001b[0m\u001b[1;33m\u001b[0m\u001b[0m\n\u001b[1;32m----> 2\u001b[1;33m \u001b[0mn1\u001b[0m\u001b[1;33m,\u001b[0m \u001b[0mbins1\u001b[0m\u001b[1;33m,\u001b[0m \u001b[0mpatches\u001b[0m \u001b[1;33m=\u001b[0m \u001b[0mnp\u001b[0m\u001b[1;33m.\u001b[0m\u001b[0mhistogram\u001b[0m\u001b[1;33m(\u001b[0m\u001b[0mL\u001b[0m\u001b[1;33m[\u001b[0m\u001b[1;33m~\u001b[0m\u001b[0mnp\u001b[0m\u001b[1;33m.\u001b[0m\u001b[0misnan\u001b[0m\u001b[1;33m(\u001b[0m\u001b[0mL\u001b[0m\u001b[1;33m)\u001b[0m\u001b[1;33m]\u001b[0m\u001b[1;33m)\u001b[0m \u001b[1;31m#intensity\u001b[0m\u001b[1;33m\u001b[0m\u001b[0m\n\u001b[0m\u001b[0;32m      3\u001b[0m \u001b[0mn2\u001b[0m\u001b[1;33m,\u001b[0m \u001b[0mbins2\u001b[0m\u001b[1;33m,\u001b[0m \u001b[0mpatches\u001b[0m \u001b[1;33m=\u001b[0m \u001b[0mnp\u001b[0m\u001b[1;33m.\u001b[0m\u001b[0mhistogram\u001b[0m\u001b[1;33m(\u001b[0m\u001b[0ma\u001b[0m\u001b[1;33m[\u001b[0m\u001b[1;33m~\u001b[0m\u001b[0mnp\u001b[0m\u001b[1;33m.\u001b[0m\u001b[0misnan\u001b[0m\u001b[1;33m(\u001b[0m\u001b[0ma\u001b[0m\u001b[1;33m)\u001b[0m\u001b[1;33m]\u001b[0m\u001b[1;33m)\u001b[0m \u001b[1;31m#Green-Red\u001b[0m\u001b[1;33m\u001b[0m\u001b[0m\n\u001b[0;32m      4\u001b[0m \u001b[0mn3\u001b[0m\u001b[1;33m,\u001b[0m \u001b[0mbins3\u001b[0m\u001b[1;33m,\u001b[0m \u001b[0mpatches\u001b[0m \u001b[1;33m=\u001b[0m \u001b[0mnp\u001b[0m\u001b[1;33m.\u001b[0m\u001b[0mhistogram\u001b[0m\u001b[1;33m(\u001b[0m\u001b[0mb\u001b[0m\u001b[1;33m[\u001b[0m\u001b[1;33m~\u001b[0m\u001b[0mnp\u001b[0m\u001b[1;33m.\u001b[0m\u001b[0misnan\u001b[0m\u001b[1;33m(\u001b[0m\u001b[0mb\u001b[0m\u001b[1;33m)\u001b[0m\u001b[1;33m]\u001b[0m\u001b[1;33m)\u001b[0m \u001b[1;31m#Blue-Yellow\u001b[0m\u001b[1;33m\u001b[0m\u001b[0m\n\u001b[0;32m      5\u001b[0m \u001b[0mplt\u001b[0m\u001b[1;33m.\u001b[0m\u001b[0mlegend\u001b[0m\u001b[1;33m(\u001b[0m\u001b[1;33m[\u001b[0m\u001b[1;34m'(L)Intensity'\u001b[0m\u001b[1;33m,\u001b[0m\u001b[1;34m'(A)Green-Red'\u001b[0m\u001b[1;33m,\u001b[0m\u001b[1;34m'(B)Blue-Yellow'\u001b[0m\u001b[1;33m]\u001b[0m\u001b[1;33m)\u001b[0m\u001b[1;33m\u001b[0m\u001b[0m\n",
      "\u001b[1;31mValueError\u001b[0m: not enough values to unpack (expected 3, got 2)"
     ]
    }
   ],
   "source": [
    "#plot histogram of background-free segmented images\n",
    "n1, bins1, patches = np.histogram(L[~np.isnan(L)]) #intensity\n",
    "n2, bins2, patches = np.histogram(a[~np.isnan(a)]) #Green-Red\n",
    "n3, bins3, patches = np.histogram(b[~np.isnan(b)]) #Blue-Yellow\n",
    "plt.legend(['(L)Intensity','(A)Green-Red','(B)Blue-Yellow'])\n",
    "plt.title('L A B Histogram of Segmented Image')\n",
    "plt.ylabel('Density')\n",
    "plt.xlabel('L A B')"
   ]
  },
  {
   "cell_type": "code",
   "execution_count": 84,
   "metadata": {},
   "outputs": [
    {
     "data": {
      "text/plain": [
       "[6, 7, 7]"
      ]
     },
     "execution_count": 84,
     "metadata": {},
     "output_type": "execute_result"
    }
   ],
   "source": [
    "#Peaks of histogram LAB value\n",
    "Pop_L = np.where(n1 == n1.max()) #tuple\n",
    "Pop_a = np.where(n2 == n2.max())\n",
    "Pop_b = np.where(n3 == n3.max())\n",
    "\n",
    "test=[np.array(Pop_L)[0][0],np.array(Pop_a)[0][0],np.array(Pop_b)[0][0]]\n",
    "test\n"
   ]
  },
  {
   "cell_type": "code",
   "execution_count": 82,
   "metadata": {},
   "outputs": [
    {
     "data": {
      "text/plain": [
       "6"
      ]
     },
     "execution_count": 82,
     "metadata": {},
     "output_type": "execute_result"
    }
   ],
   "source": [
    "np.array(Pop_L)[0][0]"
   ]
  },
  {
   "cell_type": "code",
   "execution_count": null,
   "metadata": {},
   "outputs": [],
   "source": []
  },
  {
   "cell_type": "code",
   "execution_count": null,
   "metadata": {},
   "outputs": [],
   "source": []
  },
  {
   "cell_type": "code",
   "execution_count": null,
   "metadata": {},
   "outputs": [],
   "source": []
  }
 ],
 "metadata": {
  "kernelspec": {
   "display_name": "Python 3",
   "language": "python",
   "name": "python3"
  },
  "language_info": {
   "codemirror_mode": {
    "name": "ipython",
    "version": 3
   },
   "file_extension": ".py",
   "mimetype": "text/x-python",
   "name": "python",
   "nbconvert_exporter": "python",
   "pygments_lexer": "ipython3",
   "version": "3.6.4"
  }
 },
 "nbformat": 4,
 "nbformat_minor": 2
}
