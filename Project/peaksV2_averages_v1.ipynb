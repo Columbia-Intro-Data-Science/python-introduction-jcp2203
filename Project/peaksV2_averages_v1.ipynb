{
 "cells": [
  {
   "cell_type": "code",
   "execution_count": 1,
   "metadata": {
    "scrolled": true
   },
   "outputs": [],
   "source": [
    "import pandas as pd\n",
    "import numpy as np\n",
    "import matplotlib.image as mpimg\n",
    "import matplotlib.pyplot as plt\n",
    "import os, glob\n",
    "from PIL import Image\n",
    "from skimage import io, color\n",
    "import cv2 \n",
    "%matplotlib inline\n",
    "\n",
    "import tensorflow as tf\n",
    "import keras\n",
    "from keras.utils import np_utils\n",
    "from keras.models import Sequential\n",
    "from keras.layers import Dense,Conv2D,Dropout\n",
    "from keras.layers import MaxPooling2D,Flatten\n",
    "from keras.callbacks import ModelCheckpoint,TensorBoard"
   ]
  },
  {
   "cell_type": "code",
   "execution_count": 2,
   "metadata": {},
   "outputs": [],
   "source": [
    "cd = os.getcwd()\n"
   ]
  },
  {
   "cell_type": "code",
   "execution_count": 3,
   "metadata": {
    "scrolled": true
   },
   "outputs": [],
   "source": [
    "Xtrain = pd.read_csv(r'C:\\Users\\User\\Desktop\\TrainTestData\\Xtrain_data.csv')\n",
    "ytrain = pd.read_csv(r'C:\\Users\\User\\Desktop\\TrainTestData\\ytrain.csv')\n",
    "Xtest = pd.read_csv(r'C:\\Users\\User\\Desktop\\TrainTestData\\Xtest_data.csv')\n",
    "ytest = pd.read_csv(r'C:\\Users\\User\\Desktop\\TrainTestData\\ytest.csv')\n",
    " \n",
    "#split = Xtrain.loc[1][2].split('\\\\')[-2]\n",
    "#Xtrain.loc[1][2].split('\\\\')[-1]\n",
    "    "
   ]
  },
  {
   "cell_type": "code",
   "execution_count": 4,
   "metadata": {},
   "outputs": [],
   "source": [
    "base_dir = r'C:\\Users\\User\\Desktop\\TrainTestData'\n",
    "Xtrain_feat = []\n",
    "Xtest_feat = []\n",
    "Xtrain_list=[]\n",
    "Xtest_list=[]\n",
    "\n",
    "for i in range(0,len(Xtrain)):\n",
    "    disease = Xtrain.loc[i][2].split('\\\\')[-2]\n",
    "    filename = Xtrain.loc[i][2].split('\\\\')[-1]\n",
    "    fullpath = os.path.join(base_dir,disease,filename)\n",
    "    Xtrain_list.append(fullpath)\n",
    "    im_temp = mpimg.imread(Xtrain_list[i])\n",
    "    Xtrain_feat.append(im_temp) \n",
    "    \n",
    "\n",
    "for i in range(0,len(Xtest)):\n",
    "    disease = Xtest.loc[i][2].split('\\\\')[-2]\n",
    "    filename = Xtest.loc[i][2].split('\\\\')[-1]\n",
    "    fullpath = os.path.join(base_dir,disease,filename)\n",
    "    Xtest_list.append(fullpath) \n",
    "    im_temp = mpimg.imread(Xtrain_list[i])\n",
    "    Xtest_feat.append(im_temp)    \n",
    "\n",
    "#imgloc = Xtrain_list[1]\n",
    "#mpimg.imread(imgloc)\n",
    "#mpimg.imread(Xtrain_list(1))"
   ]
  },
  {
   "cell_type": "code",
   "execution_count": 5,
   "metadata": {
    "scrolled": true
   },
   "outputs": [],
   "source": [
    "#n, bins, patches = plt.hist(lab[:,:,0], 100, normed=1, facecolor='green', alpha=0.75)\n",
    "#x = np.linspace(0.0, 30.0, num=1)"
   ]
  },
  {
   "cell_type": "code",
   "execution_count": 9,
   "metadata": {},
   "outputs": [
    {
     "name": "stderr",
     "output_type": "stream",
     "text": [
      "C:\\ProgramData\\Anaconda3\\lib\\site-packages\\numpy\\core\\fromnumeric.py:2957: RuntimeWarning: Mean of empty slice.\n",
      "  out=out, **kwargs)\n",
      "C:\\ProgramData\\Anaconda3\\lib\\site-packages\\numpy\\core\\_methods.py:80: RuntimeWarning: invalid value encountered in double_scalars\n",
      "  ret = ret.dtype.type(ret / rcount)\n"
     ]
    }
   ],
   "source": [
    "Avg_train=[]\n",
    "Avg_test=[]\n",
    "peak_index_train=[];\n",
    "peak_index_test=[]\n",
    "\n",
    "for i in range(0,len(Xtrain)):\n",
    "    rgb = Xtrain_feat[i]\n",
    "    lab = color.rgb2lab(rgb)\n",
    "    #lab\n",
    "    L = (lab[:,:,0])\n",
    "    a = (lab[:,:,1])\n",
    "    b = (lab[:,:,2])\n",
    "\n",
    "    # make black = Nan\n",
    "    l_temp = L\n",
    "    l_temp[l_temp == 0] = float('nan')\n",
    "    L = (l_temp)\n",
    "\n",
    "    a_temp = a\n",
    "    a_temp[a_temp == 0] = float('nan')\n",
    "    a = (a_temp)\n",
    "\n",
    "    b_temp = b\n",
    "    b_temp[b_temp == 0] = float('nan')\n",
    "    b = (b_temp)\n",
    "\n",
    "    #update lab with Nan in black\n",
    "#    lab[:,:,0] = L\n",
    "#    lab[:,:,1] = a\n",
    "#    lab[:,:,2] = b\n",
    "\n",
    "    Avg_L = np.mean(L[~np.isnan(L)])\n",
    "    Avg_a = np.mean(a[~np.isnan(a)])\n",
    "    Avg_b = np.mean(b[~np.isnan(b)])\n",
    "    \n",
    "    AVG = [Avg_L,Avg_a,Avg_b]\n",
    "    Avg_train.append(AVG)\n",
    "    \n",
    "    #plot histogram of background-free segmented images\n",
    "    n1, bins1 = np.histogram(L[~np.isnan(L)]) #intensity\n",
    "    n2, bins2 = np.histogram(a[~np.isnan(a)]) #Green-Red\n",
    "    n3, bins3 = np.histogram(b[~np.isnan(b)]) #Blue-Yellow\n",
    "    \n",
    "    #Peaks of histogram LAB value\n",
    "    Pop_L = np.where(n1 == n1.max()) #tuple\n",
    "    Pop_a = np.where(n2 == n2.max())\n",
    "    Pop_b = np.where(n3 == n3.max())\n",
    "\n",
    "    pks=[np.array(Pop_L)[0][0],np.array(Pop_a)[0][0],np.array(Pop_b)[0][0]]\n",
    "    peak_index_train.append(pks)  "
   ]
  },
  {
   "cell_type": "code",
   "execution_count": 10,
   "metadata": {},
   "outputs": [
    {
     "data": {
      "text/plain": [
       "<matplotlib.figure.Figure at 0x1fac3728ac8>"
      ]
     },
     "metadata": {},
     "output_type": "display_data"
    }
   ],
   "source": [
    "for i in range(0,len(Xtest)):\n",
    "    rgb = Xtest_feat[i]\n",
    "    lab = color.rgb2lab(rgb)\n",
    "    #lab\n",
    "    L = (lab[:,:,0])\n",
    "    a = (lab[:,:,1])\n",
    "    b = (lab[:,:,2])\n",
    "\n",
    "    # make black = Nan\n",
    "    l_temp = L\n",
    "    l_temp[l_temp == 0] = float('nan')\n",
    "    L = (l_temp)\n",
    "\n",
    "    a_temp = a\n",
    "    a_temp[a_temp == 0] = float('nan')\n",
    "    a = (a_temp)\n",
    "\n",
    "    b_temp = b\n",
    "    b_temp[b_temp == 0] = float('nan')\n",
    "    b = (b_temp)\n",
    "\n",
    "    #update lab with Nan in black\n",
    "#    lab[:,:,0] = L\n",
    "#    lab[:,:,1] = a\n",
    "#    lab[:,:,2] = b\n",
    "\n",
    "    Avg_L = np.mean(L[~np.isnan(L)])\n",
    "    Avg_a = np.mean(a[~np.isnan(a)])\n",
    "    Avg_b = np.mean(b[~np.isnan(b)])\n",
    "    AVG = [Avg_L,Avg_a,Avg_b]\n",
    "    Avg_test.append(AVG)\n",
    "    \n",
    "    #numpy histogram of background-free segmented images -- prevents wasting time plotting\n",
    "    n1, bins1 = np.histogram(L[~np.isnan(L)]) #intensity\n",
    "    n2, bins2 = np.histogram(a[~np.isnan(a)]) #Green-Red\n",
    "    n3, bins3 = np.histogram(b[~np.isnan(b)]) #Blue-Yellow\n",
    "    \n",
    "    #Peaks of histogram LAB value\n",
    "    Pop_L = np.where(n1 == n1.max()) #tuple\n",
    "    Pop_a = np.where(n2 == n2.max())\n",
    "    Pop_b = np.where(n3 == n3.max())\n",
    "\n",
    "    pks1=[np.array(Pop_L)[0][0],np.array(Pop_a)[0][0],np.array(Pop_b)[0][0]]\n",
    "    peak_index_test.append(pks1)\n",
    "\n",
    "    plt.cla()\n",
    "    plt.clf()       "
   ]
  },
  {
   "cell_type": "code",
   "execution_count": 12,
   "metadata": {},
   "outputs": [
    {
     "data": {
      "text/plain": [
       "226"
      ]
     },
     "execution_count": 12,
     "metadata": {},
     "output_type": "execute_result"
    }
   ],
   "source": [
    "len(Avg_test)"
   ]
  },
  {
   "cell_type": "code",
   "execution_count": null,
   "metadata": {
    "scrolled": true
   },
   "outputs": [],
   "source": [
    "Avg_train=[]\n",
    "Avg_test=[]\n",
    "peak_index_train=[];\n",
    "peak_index_test=[]"
   ]
  },
  {
   "cell_type": "code",
   "execution_count": 15,
   "metadata": {},
   "outputs": [
    {
     "name": "stdout",
     "output_type": "stream",
     "text": [
      "Collecting tensor-flow\n"
     ]
    },
    {
     "name": "stderr",
     "output_type": "stream",
     "text": [
      "  Could not find a version that satisfies the requirement tensor-flow (from versions: )\n",
      "No matching distribution found for tensor-flow\n"
     ]
    }
   ],
   "source": [
    "!pip install tensor-flow"
   ]
  },
  {
   "cell_type": "code",
   "execution_count": null,
   "metadata": {},
   "outputs": [],
   "source": []
  },
  {
   "cell_type": "code",
   "execution_count": null,
   "metadata": {},
   "outputs": [],
   "source": []
  },
  {
   "cell_type": "code",
   "execution_count": null,
   "metadata": {},
   "outputs": [],
   "source": []
  }
 ],
 "metadata": {
  "kernelspec": {
   "display_name": "Python 3",
   "language": "python",
   "name": "python3"
  },
  "language_info": {
   "codemirror_mode": {
    "name": "ipython",
    "version": 3
   },
   "file_extension": ".py",
   "mimetype": "text/x-python",
   "name": "python",
   "nbconvert_exporter": "python",
   "pygments_lexer": "ipython3",
   "version": "3.6.4"
  }
 },
 "nbformat": 4,
 "nbformat_minor": 2
}
