{
 "cells": [
  {
   "cell_type": "code",
   "execution_count": null,
   "metadata": {
    "scrolled": true
   },
   "outputs": [],
   "source": [
    "import pandas as pd\n",
    "import numpy as np\n",
    "import matplotlib.image as mpimg\n",
    "import matplotlib.pyplot as plt\n",
    "import os, glob\n",
    "from PIL import Image\n",
    "from skimage import io, color\n",
    "import cv2 \n",
    "%matplotlib inline\n"
   ]
  },
  {
   "cell_type": "code",
   "execution_count": null,
   "metadata": {},
   "outputs": [],
   "source": [
    "cd = os.getcwd()\n"
   ]
  },
  {
   "cell_type": "code",
   "execution_count": null,
   "metadata": {
    "scrolled": true
   },
   "outputs": [],
   "source": [
    "Xtrain = pd.read_csv(r'C:\\Users\\User\\Desktop\\TrainTestData\\Xtrain_data.csv')\n",
    "ytrain = pd.read_csv(r'C:\\Users\\User\\Desktop\\TrainTestData\\ytrain.csv')\n",
    "Xtest = pd.read_csv(r'C:\\Users\\User\\Desktop\\TrainTestData\\Xtest_data.csv')\n",
    "ytest = pd.read_csv(r'C:\\Users\\User\\Desktop\\TrainTestData\\ytest.csv')\n",
    " \n",
    "#split = Xtrain.loc[1][2].split('\\\\')[-2]\n",
    "#Xtrain.loc[1][2].split('\\\\')[-1]\n",
    "    "
   ]
  },
  {
   "cell_type": "code",
   "execution_count": null,
   "metadata": {},
   "outputs": [],
   "source": [
    "base_dir = r'C:\\Users\\User\\Desktop\\TrainTestData'\n",
    "Xtrain_feat = []\n",
    "Xtest_feat = []\n",
    "Xtrain_list=[]\n",
    "Xtest_list=[]\n",
    "\n",
    "for i in range(0,len(Xtrain)):\n",
    "    disease = Xtrain.loc[i][2].split('\\\\')[-2]\n",
    "    filename = Xtrain.loc[i][2].split('\\\\')[-1]\n",
    "    fullpath = os.path.join(base_dir,disease,filename)\n",
    "    Xtrain_list.append(fullpath)\n",
    "    im_temp = mpimg.imread(Xtrain_list[i])\n",
    "    Xtrain_feat.append(im_temp) \n",
    "    \n",
    "\n",
    "for i in range(0,len(Xtest)):\n",
    "    disease = Xtest.loc[i][2].split('\\\\')[-2]\n",
    "    filename = Xtest.loc[i][2].split('\\\\')[-1]\n",
    "    fullpath = os.path.join(base_dir,disease,filename)\n",
    "    Xtest_list.append(fullpath) \n",
    "    im_temp = mpimg.imread(Xtrain_list[i])\n",
    "    Xtest_feat.append(im_temp)    \n",
    "\n",
    "#imgloc = Xtrain_list[1]\n",
    "#mpimg.imread(imgloc)\n",
    "#mpimg.imread(Xtrain_list(1))"
   ]
  },
  {
   "cell_type": "code",
   "execution_count": null,
   "metadata": {
    "scrolled": true
   },
   "outputs": [],
   "source": [
    "#n, bins, patches = plt.hist(lab[:,:,0], 100, normed=1, facecolor='green', alpha=0.75)\n",
    "#x = np.linspace(0.0, 30.0, num=1)"
   ]
  },
  {
   "cell_type": "code",
   "execution_count": null,
   "metadata": {},
   "outputs": [],
   "source": [
    "Avg_train=[]\n",
    "Avg_test=[]\n",
    "peak_index_train=[];peak_index_test=[]\n",
    "\n",
    "for i in range(0,len(Xtrain)):\n",
    "    rgb = Xtrain_feat[i]\n",
    "    lab = color.rgb2lab(rgb)\n",
    "    #lab\n",
    "    L = (lab[:,:,0])\n",
    "    a = (lab[:,:,1])\n",
    "    b = (lab[:,:,2])\n",
    "\n",
    "    # make black = Nan\n",
    "    l_temp = L\n",
    "    l_temp[l_temp == 0] = float('nan')\n",
    "    L = (l_temp)\n",
    "\n",
    "    a_temp = a\n",
    "    a_temp[a_temp == 0] = float('nan')\n",
    "    a = (a_temp)\n",
    "\n",
    "    b_temp = b\n",
    "    b_temp[b_temp == 0] = float('nan')\n",
    "    b = (b_temp)\n",
    "\n",
    "    #update lab with Nan in black\n",
    "#    lab[:,:,0] = L\n",
    "#    lab[:,:,1] = a\n",
    "#    lab[:,:,2] = b\n",
    "\n",
    "    Avg_L = np.mean(L[~np.isnan(L)])\n",
    "    Avg_a = np.mean(a[~np.isnan(a)])\n",
    "    Avg_b = np.mean(b[~np.isnan(b)])\n",
    "    \n",
    "    AVG = [Avg_L,Avg_a,Avg_b]\n",
    "    Avg_train.append(AVG)\n",
    "    \n",
    "    #plot histogram of background-free segmented images\n",
    "    n1, bins1, patches = np.hist(L[~np.isnan(L)]) #intensity\n",
    "    n2, bins2, patches = np.hist(a[~np.isnan(a)]) #Green-Red\n",
    "    n3, bins3, patches = np.hist(b[~np.isnan(b)]) #Blue-Yellow\n",
    "    \n",
    "    #Peaks of histogram LAB value\n",
    "    Pop_L = np.where(n1 == n1.max()) #tuple\n",
    "    Pop_a = np.where(n2 == n2.max())\n",
    "    Pop_b = np.where(n3 == n3.max())\n",
    "\n",
    "    pks=[np.array(Pop_L)[0][0],np.array(Pop_a)[0][0],np.array(Pop_b)[0][0]]\n",
    "    peak_index_train.append(pks)  \n",
    "\n",
    "    plt.cla()\n",
    "    plt.clf()"
   ]
  },
  {
   "cell_type": "code",
   "execution_count": null,
   "metadata": {},
   "outputs": [],
   "source": [
    "for i in range(0,len(Xtest)):\n",
    "    rgb = Xtest_feat[i]\n",
    "    lab = color.rgb2lab(rgb)\n",
    "    #lab\n",
    "    L = (lab[:,:,0])\n",
    "    a = (lab[:,:,1])\n",
    "    b = (lab[:,:,2])\n",
    "\n",
    "    # make black = Nan\n",
    "    l_temp = L\n",
    "    l_temp[l_temp == 0] = float('nan')\n",
    "    L = (l_temp)\n",
    "\n",
    "    a_temp = a\n",
    "    a_temp[a_temp == 0] = float('nan')\n",
    "    a = (a_temp)\n",
    "\n",
    "    b_temp = b\n",
    "    b_temp[b_temp == 0] = float('nan')\n",
    "    b = (b_temp)\n",
    "\n",
    "    #update lab with Nan in black\n",
    "#    lab[:,:,0] = L\n",
    "#    lab[:,:,1] = a\n",
    "#    lab[:,:,2] = b\n",
    "\n",
    "    Avg_L = np.mean(L[~np.isnan(L)])\n",
    "    Avg_a = np.mean(a[~np.isnan(a)])\n",
    "    Avg_b = np.mean(b[~np.isnan(b)])\n",
    "    AVG = [Avg_L,Avg_a,Avg_b]\n",
    "    Avg_test.append(AVG)\n",
    "    \n",
    "    #numpy histogram of background-free segmented images -- prevents wasting time plotting\n",
    "    n1, bins1, patches = np.hist(L[~np.isnan(L)]) #intensity\n",
    "    n2, bins2, patches = np.hist(a[~np.isnan(a)]) #Green-Red\n",
    "    n3, bins3, patches = np.hist(b[~np.isnan(b)]) #Blue-Yellow\n",
    "    \n",
    "    #Peaks of histogram LAB value\n",
    "    Pop_L = np.where(n1 == n1.max()) #tuple\n",
    "    Pop_a = np.where(n2 == n2.max())\n",
    "    Pop_b = np.where(n3 == n3.max())\n",
    "\n",
    "    pks1=[np.array(Pop_L)[0][0],np.array(Pop_a)[0][0],np.array(Pop_b)[0][0]]\n",
    "    peak_index_test.append(pks1)\n",
    "\n",
    "    plt.cla()\n",
    "    plt.clf()       "
   ]
  },
  {
   "cell_type": "code",
   "execution_count": null,
   "metadata": {},
   "outputs": [],
   "source": [
    "len(LAvg_test)"
   ]
  },
  {
   "cell_type": "code",
   "execution_count": null,
   "metadata": {
    "scrolled": true
   },
   "outputs": [],
   "source": [
    "#plot histogram of background-free segmented images\n",
    "n1, bins1, patches = plt.hist(L[~np.isnan(L)]) #intensity\n",
    "n2, bins2, patches = plt.hist(a[~np.isnan(a)]) #Green-Red\n",
    "n3, bins3, patches = plt.hist(b[~np.isnan(b)]) #Blue-Yellow\n",
    "plt.legend(['(L)Intensity','(A)Green-Red','(B)Blue-Yellow'])\n",
    "plt.title('L A B Histogram of Segmented Image')\n",
    "plt.ylabel('Density')\n",
    "plt.xlabel('L A B')"
   ]
  },
  {
   "cell_type": "code",
   "execution_count": null,
   "metadata": {},
   "outputs": [],
   "source": []
  },
  {
   "cell_type": "code",
   "execution_count": null,
   "metadata": {},
   "outputs": [],
   "source": []
  },
  {
   "cell_type": "code",
   "execution_count": null,
   "metadata": {},
   "outputs": [],
   "source": []
  },
  {
   "cell_type": "code",
   "execution_count": null,
   "metadata": {},
   "outputs": [],
   "source": []
  }
 ],
 "metadata": {
  "kernelspec": {
   "display_name": "Python 3",
   "language": "python",
   "name": "python3"
  },
  "language_info": {
   "codemirror_mode": {
    "name": "ipython",
    "version": 3
   },
   "file_extension": ".py",
   "mimetype": "text/x-python",
   "name": "python",
   "nbconvert_exporter": "python",
   "pygments_lexer": "ipython3",
   "version": "3.6.4"
  }
 },
 "nbformat": 4,
 "nbformat_minor": 2
}
