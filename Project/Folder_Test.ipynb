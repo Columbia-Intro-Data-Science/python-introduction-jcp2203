{
 "cells": [
  {
   "cell_type": "code",
   "execution_count": 10,
   "metadata": {},
   "outputs": [
    {
     "name": "stdout",
     "output_type": "stream",
     "text": [
      "86\n"
     ]
    }
   ],
   "source": [
    "%matplotlib inline\n",
    "import numpy as np\n",
    "from PIL import Image\n",
    "import glob\n",
    "from skimage import color\n",
    "\n",
    "imgList1=[]; imgList2=[]; imgList3=[]; imgList4=[]; imgList5=[]; imgList6=[];\n",
    "\n",
    "for filename in glob.glob('C:/Users/User/Documents/Class/Data Science/Project_pictures/Final_Images/AtopicDermatitis/*.jpg'):\n",
    "    im = Image.open(filename)\n",
    "    imgList1.append(im)\n",
    "    \n",
    "for filename in glob.glob('C:/Users/User/Documents/Class/Data Science/Project_pictures/Final_Images/ChristmasRash/*.jpg'):\n",
    "    im = Image.open(filename)\n",
    "    imgList2.append(im)\n",
    "    \n",
    "for filename in glob.glob('C:/Users/User/Documents/Class/Data Science/Project_pictures/Final_Images/ContactDermatitis/*.jpg'):\n",
    "    im = Image.open(filename)\n",
    "    imgList3.append(im)\n",
    "    \n",
    "for filename in glob.glob('C:/Users/User/Documents/Class/Data Science/Project_pictures/Final_Images/MalignantMelanoma/*.jpg'):\n",
    "    im = Image.open(filename)\n",
    "    imgList4.append(im)    \n",
    "\n",
    "for filename in glob.glob('C:/Users/User/Documents/Class/Data Science/Project_pictures/Final_Images/Psoriasis/*.jpg'):\n",
    "    im = Image.open(filename)\n",
    "    imgList5.append(im)\n",
    "    \n",
    "for filename in glob.glob('C:/Users/User/Documents/Class/Data Science/Project_pictures/Final_Images/Ringworm/*.jpg'):\n",
    "    im = Image.open(filename)\n",
    "    imgList6.append(im)    \n",
    "\n",
    "        \n",
    "    \n",
    "nfiles = len(imgList6)\n",
    "print(nfiles)"
   ]
  },
  {
   "cell_type": "code",
   "execution_count": null,
   "metadata": {},
   "outputs": [],
   "source": []
  },
  {
   "cell_type": "code",
   "execution_count": null,
   "metadata": {},
   "outputs": [],
   "source": [
    "\n",
    "\n",
    "\n",
    "for n in range(1, nfiles) \n",
    "    currentfilename = imagefiles(n).name;\n",
    "    currentimage = imread(currentfilename);\n",
    "    images(n) = currentimage;\n",
    "    I(n)   = rgb2hsv(images{n}); \n"
   ]
  }
 ],
 "metadata": {
  "kernelspec": {
   "display_name": "Python 3",
   "language": "python",
   "name": "python3"
  },
  "language_info": {
   "codemirror_mode": {
    "name": "ipython",
    "version": 3
   },
   "file_extension": ".py",
   "mimetype": "text/x-python",
   "name": "python",
   "nbconvert_exporter": "python",
   "pygments_lexer": "ipython3",
   "version": "3.6.4"
  }
 },
 "nbformat": 4,
 "nbformat_minor": 2
}
