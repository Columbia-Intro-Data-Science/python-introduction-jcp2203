{
 "cells": [
  {
   "cell_type": "markdown",
   "metadata": {},
   "source": [
    "# Introduction\n",
    "\n",
    "\n",
    "In this homework, you'll be required to load in a dataset which has about 500 features. By using\n",
    "Lasso ($L^1$) regression, we'll find the optimal constraint on the $L^1$ norm which gives us the best\n",
    "$R^2$. Then we'll plot the results.\n",
    "\n",
    "Recall we minimize the following on ** training data: $(x_i,y_i)$**\n",
    "\n",
    "$$\\min_{\\beta} \\frac{1}{N} \\sum_{i=1}^N (y_i - \\beta \\cdot x_i)^2 + \\lambda \\|\\beta \\|_{L^1}.$$\n",
    "\n",
    "\n",
    "Denoting $\\beta_{\\lambda}$ as the minimum of the above, we then choose $\\lambda$ to maximize $R^2$ on **testing data: $(x_j,y_j)$**\n",
    "\n",
    "$$ \\max_{\\lambda} 1 - \\frac{\\sum_{j} (y_j - \\beta_{\\lambda} \\cdot x_j)^2}{\\sum_j (y_j - \\bar y)^2}$$\n"
   ]
  },
  {
   "cell_type": "markdown",
   "metadata": {},
   "source": [
    "# Lasso Regularization"
   ]
  },
  {
   "cell_type": "markdown",
   "metadata": {},
   "source": [
    "## Problem 1"
   ]
  },
  {
   "cell_type": "markdown",
   "metadata": {},
   "source": [
    "a) Load in hw2data.csv from ../data into a pandas dataframe."
   ]
  },
  {
   "cell_type": "markdown",
   "metadata": {},
   "source": [
    "b) Set y to be the y variable in the dataframe from a and X to be the remaining features."
   ]
  },
  {
   "cell_type": "markdown",
   "metadata": {},
   "source": [
    "c) As shown in the Booking.com example, using Lasso regression, find the regularization strength\n",
    "which optimizes the $R^2$. \n",
    "\n",
    "**Hint:** Take a range of alpha from `np.logspace(-8,-3,1000)`"
   ]
  },
  {
   "cell_type": "markdown",
   "metadata": {},
   "source": [
    "d) Plot the training perforamnce versus the testing performance, and observe whree the test performance is\n",
    "maximized. I've written an outline of the code you need."
   ]
  },
  {
   "cell_type": "code",
   "execution_count": 73,
   "metadata": {},
   "outputs": [
    {
     "data": {
      "text/html": [
       "<div>\n",
       "<style>\n",
       "    .dataframe thead tr:only-child th {\n",
       "        text-align: right;\n",
       "    }\n",
       "\n",
       "    .dataframe thead th {\n",
       "        text-align: left;\n",
       "    }\n",
       "\n",
       "    .dataframe tbody tr th {\n",
       "        vertical-align: top;\n",
       "    }\n",
       "</style>\n",
       "<table border=\"1\" class=\"dataframe\">\n",
       "  <thead>\n",
       "    <tr style=\"text-align: right;\">\n",
       "      <th></th>\n",
       "      <th>1</th>\n",
       "      <th>2</th>\n",
       "      <th>3</th>\n",
       "      <th>4</th>\n",
       "      <th>5</th>\n",
       "      <th>6</th>\n",
       "      <th>7</th>\n",
       "      <th>8</th>\n",
       "      <th>9</th>\n",
       "      <th>10</th>\n",
       "      <th>...</th>\n",
       "      <th>491</th>\n",
       "      <th>492</th>\n",
       "      <th>493</th>\n",
       "      <th>494</th>\n",
       "      <th>495</th>\n",
       "      <th>496</th>\n",
       "      <th>497</th>\n",
       "      <th>498</th>\n",
       "      <th>499</th>\n",
       "      <th>y</th>\n",
       "    </tr>\n",
       "    <tr>\n",
       "      <th>0</th>\n",
       "      <th></th>\n",
       "      <th></th>\n",
       "      <th></th>\n",
       "      <th></th>\n",
       "      <th></th>\n",
       "      <th></th>\n",
       "      <th></th>\n",
       "      <th></th>\n",
       "      <th></th>\n",
       "      <th></th>\n",
       "      <th></th>\n",
       "      <th></th>\n",
       "      <th></th>\n",
       "      <th></th>\n",
       "      <th></th>\n",
       "      <th></th>\n",
       "      <th></th>\n",
       "      <th></th>\n",
       "      <th></th>\n",
       "      <th></th>\n",
       "      <th></th>\n",
       "    </tr>\n",
       "  </thead>\n",
       "  <tbody>\n",
       "    <tr>\n",
       "      <th>0.382732</th>\n",
       "      <td>-0.034242</td>\n",
       "      <td>1.096347</td>\n",
       "      <td>-0.234216</td>\n",
       "      <td>-0.347451</td>\n",
       "      <td>-0.581268</td>\n",
       "      <td>-1.632635</td>\n",
       "      <td>-1.567768</td>\n",
       "      <td>-1.179158</td>\n",
       "      <td>1.301428</td>\n",
       "      <td>0.895260</td>\n",
       "      <td>...</td>\n",
       "      <td>0.178793</td>\n",
       "      <td>-0.799422</td>\n",
       "      <td>0.240788</td>\n",
       "      <td>0.289121</td>\n",
       "      <td>0.412871</td>\n",
       "      <td>-0.198399</td>\n",
       "      <td>0.094192</td>\n",
       "      <td>-1.147611</td>\n",
       "      <td>-0.358114</td>\n",
       "      <td>-2.663126</td>\n",
       "    </tr>\n",
       "    <tr>\n",
       "      <th>0.555963</th>\n",
       "      <td>0.892474</td>\n",
       "      <td>-0.422315</td>\n",
       "      <td>0.104714</td>\n",
       "      <td>0.228053</td>\n",
       "      <td>0.201480</td>\n",
       "      <td>0.540774</td>\n",
       "      <td>-1.818078</td>\n",
       "      <td>-0.049324</td>\n",
       "      <td>0.239034</td>\n",
       "      <td>-1.000330</td>\n",
       "      <td>...</td>\n",
       "      <td>-0.740137</td>\n",
       "      <td>-0.565498</td>\n",
       "      <td>0.476031</td>\n",
       "      <td>-2.158069</td>\n",
       "      <td>1.318551</td>\n",
       "      <td>-0.239297</td>\n",
       "      <td>-0.246794</td>\n",
       "      <td>-1.079343</td>\n",
       "      <td>-0.114226</td>\n",
       "      <td>10.399650</td>\n",
       "    </tr>\n",
       "    <tr>\n",
       "      <th>0.013240</th>\n",
       "      <td>-0.121945</td>\n",
       "      <td>0.339059</td>\n",
       "      <td>-0.589632</td>\n",
       "      <td>-0.895816</td>\n",
       "      <td>0.548328</td>\n",
       "      <td>0.098667</td>\n",
       "      <td>0.197181</td>\n",
       "      <td>1.059027</td>\n",
       "      <td>-1.022564</td>\n",
       "      <td>-0.855240</td>\n",
       "      <td>...</td>\n",
       "      <td>-0.739936</td>\n",
       "      <td>1.315138</td>\n",
       "      <td>-0.323457</td>\n",
       "      <td>0.197828</td>\n",
       "      <td>0.097751</td>\n",
       "      <td>1.401523</td>\n",
       "      <td>0.158434</td>\n",
       "      <td>-1.141901</td>\n",
       "      <td>-1.310970</td>\n",
       "      <td>-21.762801</td>\n",
       "    </tr>\n",
       "    <tr>\n",
       "      <th>-1.532921</th>\n",
       "      <td>-1.711970</td>\n",
       "      <td>0.046135</td>\n",
       "      <td>-0.958374</td>\n",
       "      <td>-0.080812</td>\n",
       "      <td>-0.703859</td>\n",
       "      <td>-0.770784</td>\n",
       "      <td>-0.480845</td>\n",
       "      <td>0.703586</td>\n",
       "      <td>0.929145</td>\n",
       "      <td>0.371173</td>\n",
       "      <td>...</td>\n",
       "      <td>0.473488</td>\n",
       "      <td>1.855246</td>\n",
       "      <td>1.415656</td>\n",
       "      <td>-0.302746</td>\n",
       "      <td>0.989679</td>\n",
       "      <td>0.585851</td>\n",
       "      <td>1.136388</td>\n",
       "      <td>0.671617</td>\n",
       "      <td>-0.974167</td>\n",
       "      <td>2.139453</td>\n",
       "    </tr>\n",
       "    <tr>\n",
       "      <th>-1.619685</th>\n",
       "      <td>0.572627</td>\n",
       "      <td>1.902618</td>\n",
       "      <td>-0.775664</td>\n",
       "      <td>-0.188090</td>\n",
       "      <td>-1.035748</td>\n",
       "      <td>1.177830</td>\n",
       "      <td>-2.305167</td>\n",
       "      <td>-2.263660</td>\n",
       "      <td>0.375020</td>\n",
       "      <td>-0.082344</td>\n",
       "      <td>...</td>\n",
       "      <td>-1.303220</td>\n",
       "      <td>0.466751</td>\n",
       "      <td>0.161106</td>\n",
       "      <td>0.320032</td>\n",
       "      <td>2.079177</td>\n",
       "      <td>-0.907466</td>\n",
       "      <td>-0.192404</td>\n",
       "      <td>-1.212516</td>\n",
       "      <td>-0.080599</td>\n",
       "      <td>0.194017</td>\n",
       "    </tr>\n",
       "  </tbody>\n",
       "</table>\n",
       "<p>5 rows × 500 columns</p>\n",
       "</div>"
      ],
      "text/plain": [
       "                  1         2         3         4         5         6  \\\n",
       "0                                                                       \n",
       " 0.382732 -0.034242  1.096347 -0.234216 -0.347451 -0.581268 -1.632635   \n",
       " 0.555963  0.892474 -0.422315  0.104714  0.228053  0.201480  0.540774   \n",
       " 0.013240 -0.121945  0.339059 -0.589632 -0.895816  0.548328  0.098667   \n",
       "-1.532921 -1.711970  0.046135 -0.958374 -0.080812 -0.703859 -0.770784   \n",
       "-1.619685  0.572627  1.902618 -0.775664 -0.188090 -1.035748  1.177830   \n",
       "\n",
       "                  7         8         9        10    ...           491  \\\n",
       "0                                                    ...                 \n",
       " 0.382732 -1.567768 -1.179158  1.301428  0.895260    ...      0.178793   \n",
       " 0.555963 -1.818078 -0.049324  0.239034 -1.000330    ...     -0.740137   \n",
       " 0.013240  0.197181  1.059027 -1.022564 -0.855240    ...     -0.739936   \n",
       "-1.532921 -0.480845  0.703586  0.929145  0.371173    ...      0.473488   \n",
       "-1.619685 -2.305167 -2.263660  0.375020 -0.082344    ...     -1.303220   \n",
       "\n",
       "                492       493       494       495       496       497  \\\n",
       "0                                                                       \n",
       " 0.382732 -0.799422  0.240788  0.289121  0.412871 -0.198399  0.094192   \n",
       " 0.555963 -0.565498  0.476031 -2.158069  1.318551 -0.239297 -0.246794   \n",
       " 0.013240  1.315138 -0.323457  0.197828  0.097751  1.401523  0.158434   \n",
       "-1.532921  1.855246  1.415656 -0.302746  0.989679  0.585851  1.136388   \n",
       "-1.619685  0.466751  0.161106  0.320032  2.079177 -0.907466 -0.192404   \n",
       "\n",
       "                498       499          y  \n",
       "0                                         \n",
       " 0.382732 -1.147611 -0.358114  -2.663126  \n",
       " 0.555963 -1.079343 -0.114226  10.399650  \n",
       " 0.013240 -1.141901 -1.310970 -21.762801  \n",
       "-1.532921  0.671617 -0.974167   2.139453  \n",
       "-1.619685 -1.212516 -0.080599   0.194017  \n",
       "\n",
       "[5 rows x 500 columns]"
      ]
     },
     "execution_count": 73,
     "metadata": {},
     "output_type": "execute_result"
    }
   ],
   "source": [
    "import pandas as pd\n",
    "import pylab as plt\n",
    "import matplotlib.pyplot as plt\n",
    "import seaborn\n",
    "from sklearn.linear_model import LinearRegression\n",
    "import numpy.random as nprnd\n",
    "import random\n",
    "import json\n",
    "import numpy as np\n",
    "from sklearn.linear_model import Lasso\n",
    "from sklearn.linear_model import Ridge\n",
    "from sklearn.model_selection import train_test_split\n",
    "from sklearn.cross_validation import KFold\n",
    "from sklearn import preprocessing\n",
    "%matplotlib inline\n",
    "\n",
    "# Fill these in\n",
    "alphas = []\n",
    "train_errors=[]\n",
    "test_errors=[]\n",
    "alpha_optim=0\n",
    "#a)\n",
    "df = pd.read_csv('https://raw.githubusercontent.com/jcp2203/APMAE4990-JCP2203/master/data/hw2data.csv', index_col=0)\n",
    "df.head()\n"
   ]
  },
  {
   "cell_type": "code",
   "execution_count": 74,
   "metadata": {
    "collapsed": true
   },
   "outputs": [],
   "source": [
    "#b)\n",
    "y = df['y']\n",
    "X = df.drop(['y'],1)"
   ]
  },
  {
   "cell_type": "code",
   "execution_count": 75,
   "metadata": {},
   "outputs": [
    {
     "data": {
      "text/plain": [
       "0.00013618652367560828"
      ]
     },
     "execution_count": 75,
     "metadata": {},
     "output_type": "execute_result"
    },
    {
     "data": {
      "image/png": "[encoded data removed]",
      "text/plain": [
       "<matplotlib.figure.Figure at 0x113331850>"
      ]
     },
     "metadata": {},
     "output_type": "display_data"
    }
   ],
   "source": [
    "#c)\n",
    "alphas = np.logspace(-8,-3,1000)\n",
    "\n",
    "X_train, X_test, y_train, y_test = train_test_split(\n",
    "    X, y, test_size=0.1, random_state=42)\n",
    "train_errors=[]\n",
    "test_errors=[]\n",
    "coeffs=[]\n",
    "scores=[]\n",
    "for alpha in alphas:\n",
    "    regr = Lasso(alpha=alpha)\n",
    "    regr.fit(X_train, y_train)\n",
    "    train_errors.append(regr.score(X_train,y_train))\n",
    "    scores.append(regr.score(X_test,y_test))\n",
    "    coeffs.append(regr.coef_)\n",
    "    \n",
    "plt.plot(alphas,scores)\n",
    "plt.xlabel('alphas')\n",
    "plt.ylabel('R^2')\n",
    "test_errors=scores\n",
    "alpha_optim=alphas[np.argmax(scores)]\n",
    "\n",
    "alpha_best = alpha_optim\n",
    "alpha_best\n"
   ]
  },
  {
   "cell_type": "code",
   "execution_count": 76,
   "metadata": {},
   "outputs": [
    {
     "data": {
      "image/png": "[encoded data removed]",
      "text/plain": [
       "<matplotlib.figure.Figure at 0x1133a3210>"
      ]
     },
     "metadata": {},
     "output_type": "display_data"
    }
   ],
   "source": [
    "#d)                 \n",
    "plt.subplot(2, 1, 1)\n",
    "plt.semilogx(alphas, train_errors, label='train set')\n",
    "plt.semilogx(alphas, test_errors, label='test set')\n",
    "plt.vlines(alpha_optim, plt.ylim()[0], np.max(test_errors), color='k',\n",
    "           linewidth=2, label='test optimum')\n",
    "plt.legend\n",
    "plt.ylim([0, 1.2])\n",
    "plt.xlabel('Regularization')\n",
    "plt.ylabel('Performance')\n",
    "\n",
    "\n",
    "plt.legend()\n",
    "plt.show()\n"
   ]
  },
  {
   "cell_type": "markdown",
   "metadata": {},
   "source": [
    "e) Plot the top coefficients based on this optimal paramter. Why do you think so many are zero? "
   ]
  },
  {
   "cell_type": "code",
   "execution_count": 77,
   "metadata": {},
   "outputs": [
    {
     "data": {
      "text/plain": [
       "array([  9.73372914e-01,   1.42789217e-01,   2.54744943e+00,\n",
       "         2.14968747e+00,  -1.00965307e+00,   1.18617767e+00,\n",
       "        -7.40584403e-02,  -0.00000000e+00,   1.61180447e-01,\n",
       "         1.97577004e-01,   8.11915961e-01,   7.06162283e-01,\n",
       "         2.63916631e-01,   6.02973279e-01,  -3.44942754e-04,\n",
       "         1.71931890e+00,  -2.26900083e-01,   0.00000000e+00,\n",
       "        -1.47439495e+00,  -3.19228066e+00,   5.16797498e-01,\n",
       "         9.26635052e-01,  -9.98750875e-01,   2.07570729e+00,\n",
       "        -5.41118984e-01,   8.62687606e-03,  -2.24259736e-01,\n",
       "         1.34761388e+00,   7.36683084e-01,   3.11814751e-01,\n",
       "         6.02256263e-02,  -5.24047233e-01,  -1.74366589e+00,\n",
       "         2.21246281e-02,   0.00000000e+00,   5.25569151e-01,\n",
       "         9.01128091e-01,  -3.76987805e-01,  -2.82500494e-01,\n",
       "        -8.61285520e-01,  -1.28928986e+00,  -1.70761440e+00,\n",
       "         1.55753359e+00,  -6.08292038e-01,  -2.09079290e-01,\n",
       "        -8.14296591e-01,   5.75744815e-01,  -1.61036001e+00,\n",
       "        -1.50730844e-02,   4.52275070e-02,   2.80024912e-02,\n",
       "         0.00000000e+00,  -1.23065733e-01,   4.00836311e-02,\n",
       "        -0.00000000e+00,  -8.57242593e-02,   2.40624063e-01,\n",
       "         0.00000000e+00,  -1.63510365e-01,   9.04235116e-02,\n",
       "         1.37517059e-03,   7.75308300e-02,   5.31618096e-02,\n",
       "         0.00000000e+00,   9.38650743e-03,   0.00000000e+00,\n",
       "         2.26843378e-02,   1.10207314e-01,  -0.00000000e+00,\n",
       "         8.00853338e-02,   7.01892942e-02,  -1.12262458e-02,\n",
       "        -2.90903592e-02,   1.32277750e-01,  -0.00000000e+00,\n",
       "        -1.00214272e-01,  -2.70699020e-02,  -1.10900144e-01,\n",
       "         7.99116522e-02,   1.43701174e-01,  -1.19686640e-01,\n",
       "         2.09694130e-01,  -0.00000000e+00,   8.87456693e-03,\n",
       "        -8.35012804e-02,   2.04553327e-01,  -9.08486605e-02,\n",
       "        -4.04771470e-03,   0.00000000e+00,  -4.58912123e-02,\n",
       "         1.41635475e-01,   4.88605781e-02,  -0.00000000e+00,\n",
       "         0.00000000e+00,   5.58433949e-02,   1.43383687e-01,\n",
       "        -0.00000000e+00,   1.32958971e-01,  -1.72383323e-02,\n",
       "         0.00000000e+00,  -0.00000000e+00,   3.88204434e-02,\n",
       "         5.62188543e-02,   3.17370236e-02,  -5.78980564e-02,\n",
       "         0.00000000e+00,  -1.50611353e-01,  -1.79925558e-01,\n",
       "         5.75211144e-02,   4.65281003e-02,  -0.00000000e+00,\n",
       "         0.00000000e+00,  -3.70749631e-02,   2.76266544e-01,\n",
       "        -9.15302759e-02,  -0.00000000e+00,   2.63269124e-01,\n",
       "         0.00000000e+00,   0.00000000e+00,   0.00000000e+00,\n",
       "         5.42023063e-03,  -2.48213345e-01,   2.67026296e-01,\n",
       "        -0.00000000e+00,   8.93964556e-02,   0.00000000e+00,\n",
       "        -3.25248170e-01,  -1.00803528e-02,  -3.64018717e-03,\n",
       "        -0.00000000e+00,  -1.51597108e-02,  -1.44405740e-03,\n",
       "        -0.00000000e+00,   2.98242701e-01,   3.52912846e-02,\n",
       "         4.04324067e-03,  -1.44210589e-01,   0.00000000e+00,\n",
       "         5.29998767e-01,   0.00000000e+00,  -2.39715041e-02,\n",
       "        -0.00000000e+00,  -5.19350113e-02,  -2.01708106e-02,\n",
       "         1.45529651e-01,   4.01552914e-01,  -0.00000000e+00,\n",
       "         1.40723848e-02,   2.86012629e-01,  -1.15486470e-01,\n",
       "        -2.69525991e-01,   3.07915992e-02,  -7.11362546e-02,\n",
       "         1.54778121e-01,   3.00483105e-02,  -8.74502296e-02,\n",
       "        -8.32658146e-05,  -6.11823042e-02,  -0.00000000e+00,\n",
       "        -2.48651822e-01,   4.25486313e-02,   0.00000000e+00,\n",
       "         9.01062861e-02,  -2.45127860e-02,  -3.91278525e-01,\n",
       "        -8.02051874e-02,   0.00000000e+00,  -2.40188465e-02,\n",
       "        -1.79999974e-01,  -4.17060782e-02,  -1.70390781e-01,\n",
       "         0.00000000e+00,  -1.48795395e-01,  -0.00000000e+00,\n",
       "         0.00000000e+00,  -1.34190110e-01,   4.63376295e-02,\n",
       "         0.00000000e+00,  -9.72504131e-02,   0.00000000e+00,\n",
       "        -0.00000000e+00,  -0.00000000e+00,   1.98678082e-01,\n",
       "         0.00000000e+00,   0.00000000e+00,   0.00000000e+00,\n",
       "         0.00000000e+00,   0.00000000e+00,   1.38578600e-01,\n",
       "         5.64772340e-04,  -0.00000000e+00,   6.25025635e-06,\n",
       "        -1.64268362e-01,   2.32249851e-03,   3.76015062e-02,\n",
       "         5.31353285e-02,  -3.68486606e-02,  -0.00000000e+00,\n",
       "         1.05023205e-01,  -1.51243513e-01,  -4.02727441e-02,\n",
       "        -1.28991343e-01,   3.01187187e-02,   3.93033181e-01,\n",
       "         3.65333006e-02,  -0.00000000e+00,  -3.00423510e-02,\n",
       "         4.03194444e-02,  -1.34418282e-02,   5.87431424e-03,\n",
       "         0.00000000e+00,   0.00000000e+00,  -2.39547010e-01,\n",
       "         0.00000000e+00,  -5.90125060e-02,  -3.37118424e-02,\n",
       "         2.18596806e-02,  -8.30609688e-02,  -5.99088304e-02,\n",
       "         9.26622638e-02,   3.32611249e-02,  -0.00000000e+00,\n",
       "         5.25498925e-02,   9.76075137e-03,  -0.00000000e+00,\n",
       "         0.00000000e+00,   0.00000000e+00,   8.84066449e-02,\n",
       "         1.16406643e-02,   6.78092005e-02,  -6.32914490e-03,\n",
       "        -1.42129150e-01,  -1.63340365e-02,  -0.00000000e+00,\n",
       "         4.39020733e-02,  -0.00000000e+00,  -0.00000000e+00,\n",
       "        -1.42351194e-01,  -8.83393973e-02,  -1.12795154e-02,\n",
       "        -1.63378315e-02,   0.00000000e+00,   1.42168127e-02,\n",
       "         2.93321045e-01,   2.04571010e-01,   1.34685873e-02,\n",
       "         2.75965355e-01,   9.48081845e-02,   0.00000000e+00,\n",
       "         9.75910335e-02,  -0.00000000e+00,   2.30243414e-01,\n",
       "        -1.82144174e-02,   9.18671563e-02,  -1.59950720e-01,\n",
       "        -2.30467615e-03,  -7.67109158e-02,   0.00000000e+00,\n",
       "         0.00000000e+00,  -5.23650398e-02,   1.54031105e-02,\n",
       "         1.23962050e-02,  -1.45236738e-01,   5.08219799e-02,\n",
       "         1.46263382e-01,   2.14682717e-01,  -0.00000000e+00,\n",
       "         1.38299226e-02,   1.83856063e-01,  -0.00000000e+00,\n",
       "        -0.00000000e+00,   1.42043678e-01,  -3.76813095e-04,\n",
       "        -2.07491719e-01,  -1.57656497e-02,   1.44725541e-01,\n",
       "         0.00000000e+00,   7.63885036e-02,   2.11240878e-01,\n",
       "        -1.26665533e-01,  -6.14550580e-02,   7.22035992e-02,\n",
       "         0.00000000e+00,   2.56369986e-01,   6.35161458e-02,\n",
       "        -4.64101089e-02,   6.01588592e-02,   0.00000000e+00,\n",
       "        -3.51305548e-02,   2.45953182e-02,   0.00000000e+00,\n",
       "         0.00000000e+00,   0.00000000e+00,  -5.05998977e-02,\n",
       "         2.44838118e-03,   0.00000000e+00,   2.54815872e-01,\n",
       "        -6.75473909e-02,  -5.61446895e-02,   1.65376933e-03,\n",
       "        -4.51592914e-02,  -2.73671390e-01,  -1.31747779e-01,\n",
       "        -5.12805388e-02,  -8.54754805e-02,  -2.13876027e-02,\n",
       "        -0.00000000e+00,  -6.69651010e-03,   0.00000000e+00,\n",
       "        -1.74276501e-03,  -5.65025872e-02,  -1.81137156e-02,\n",
       "        -1.25869711e-04,  -2.00533762e-01,   8.90067555e-02,\n",
       "        -7.80583911e-02,   4.49815227e-03,  -0.00000000e+00,\n",
       "        -1.04090244e-01,  -0.00000000e+00,   0.00000000e+00,\n",
       "         0.00000000e+00,  -1.41262557e-01,   0.00000000e+00,\n",
       "         0.00000000e+00,   3.64653599e-02,  -0.00000000e+00,\n",
       "        -6.85279981e-04,   1.41728795e-03,  -1.06294516e-01,\n",
       "         1.43968552e-01,   1.07962555e-02,   0.00000000e+00,\n",
       "         1.75631954e-03,   2.67519022e-03,   2.05509631e-03,\n",
       "         6.08225218e-02,  -0.00000000e+00,  -0.00000000e+00,\n",
       "        -0.00000000e+00,   0.00000000e+00,   6.79649783e-02,\n",
       "         0.00000000e+00,   1.14734076e-01,   0.00000000e+00,\n",
       "         1.59683971e-02,  -0.00000000e+00,  -6.05095921e-02,\n",
       "         2.47404638e-01,  -2.19013390e-02,  -1.52987516e-02,\n",
       "        -3.45726189e-02,  -8.30360527e-03,   0.00000000e+00,\n",
       "        -2.49574867e-02,  -4.78912232e-02,  -1.09363132e-01,\n",
       "         0.00000000e+00,  -0.00000000e+00,  -0.00000000e+00,\n",
       "         3.75004091e-04,  -4.08729389e-02,  -0.00000000e+00,\n",
       "         2.53715973e-01,  -6.52205545e-02,   1.06977600e-01,\n",
       "         8.44300388e-02,   0.00000000e+00,   3.60271395e-01,\n",
       "         2.53985889e-02,   7.78036133e-03,  -2.37912279e-01,\n",
       "         2.98334862e-03,  -0.00000000e+00,  -0.00000000e+00,\n",
       "        -2.24392358e-02,   7.07548096e-03,  -0.00000000e+00,\n",
       "        -1.24079033e-01,  -5.34063352e-02,  -9.19580393e-02,\n",
       "         1.66801349e-02,  -0.00000000e+00,   0.00000000e+00,\n",
       "         0.00000000e+00,   0.00000000e+00,   1.44981804e-01,\n",
       "        -1.61528081e-01,   9.13337957e-02,   0.00000000e+00,\n",
       "        -1.59230040e-01,  -4.72505215e-03,   0.00000000e+00,\n",
       "        -8.11187112e-02,   1.61342270e-02,  -1.02224768e-02,\n",
       "        -1.74696438e-01,  -0.00000000e+00,   0.00000000e+00,\n",
       "        -0.00000000e+00,  -0.00000000e+00,   4.65327675e-02,\n",
       "         1.98490293e-01,   0.00000000e+00,  -2.77720123e-02,\n",
       "         0.00000000e+00,  -1.63893627e-01,   0.00000000e+00,\n",
       "         6.61661520e-02,   9.26635232e-02,  -9.84389333e-02,\n",
       "         8.09960262e-02,   0.00000000e+00,  -9.26274073e-06,\n",
       "        -5.87034785e-02,   1.22875185e-01,  -1.53486877e-02,\n",
       "        -0.00000000e+00,   2.00342789e-01,   0.00000000e+00,\n",
       "         6.98752623e-05,  -2.37320385e-02,   0.00000000e+00,\n",
       "        -3.75966264e-02,  -6.40455454e-02,   0.00000000e+00,\n",
       "         5.52556581e-02,   7.50558829e-02,   6.78109911e-02,\n",
       "         0.00000000e+00,   7.91317674e-02,  -0.00000000e+00,\n",
       "         7.24645376e-02,   7.99059881e-02,  -0.00000000e+00,\n",
       "        -0.00000000e+00,  -9.41531497e-02,   0.00000000e+00,\n",
       "         3.03628785e-02,   8.20325679e-02,  -0.00000000e+00,\n",
       "         4.42004365e-02,   2.73427925e-02,   2.68340631e-01,\n",
       "        -3.85268731e-02,  -3.20978669e-02,   0.00000000e+00,\n",
       "         3.85232802e-02,  -3.45075515e-02,  -8.51492218e-02,\n",
       "        -3.14296340e-02,   4.94966459e-02,  -5.07319265e-02,\n",
       "         0.00000000e+00,  -0.00000000e+00,  -5.19706056e-02,\n",
       "         2.28131215e-01,   1.88055603e-02,  -0.00000000e+00,\n",
       "        -2.00932067e-02,  -0.00000000e+00,   8.13096584e-02,\n",
       "         0.00000000e+00,  -1.48681576e-01,   1.65754055e-01,\n",
       "         1.18658430e-01,  -0.00000000e+00,   1.79591717e-01,\n",
       "         2.16112945e-03,   7.96393812e-03,   2.80082628e-02,\n",
       "         2.72746577e-02,  -1.80315437e-01,   6.08518049e-02,\n",
       "         4.24664773e-02,   6.17496492e-03,   0.00000000e+00,\n",
       "        -1.02069664e-01,   0.00000000e+00,   9.75862138e-02,\n",
       "        -1.67374354e-01,  -1.48291506e-02,  -7.29561431e-04,\n",
       "         1.42704533e-02,   1.60514586e-01,   6.54458110e-02,\n",
       "         1.78493417e-01,  -0.00000000e+00,   1.15218633e-03,\n",
       "         4.48857743e-02,  -0.00000000e+00,  -2.80988599e-02,\n",
       "         9.16975172e-02,  -6.68768869e-02,   2.95061595e-02,\n",
       "        -5.28055388e-02,  -0.00000000e+00,  -6.52406193e-02,\n",
       "        -1.17770368e-01])"
      ]
     },
     "execution_count": 77,
     "metadata": {},
     "output_type": "execute_result"
    }
   ],
   "source": [
    "#e)\n",
    "regr = Lasso(alpha=alpha_best)\n",
    "regr.fit(X_train, y_train)\n",
    "regr.coef_\n"
   ]
  },
  {
   "cell_type": "code",
   "execution_count": 78,
   "metadata": {},
   "outputs": [
    {
     "name": "stdout",
     "output_type": "stream",
     "text": [
      "so many zeros because of sparsity, and to exlude particular features from the model.\n"
     ]
    }
   ],
   "source": [
    "print 'so many zeros because of sparsity, and to exlude particular features from the model.'"
   ]
  },
  {
   "cell_type": "code",
   "execution_count": 79,
   "metadata": {},
   "outputs": [
    {
     "data": {
      "text/plain": [
       "<matplotlib.axes._subplots.AxesSubplot at 0x1a21314050>"
      ]
     },
     "execution_count": 79,
     "metadata": {},
     "output_type": "execute_result"
    },
    {
     "data": {
      "image/png": "[encoded data removed]",
      "text/plain": [
       "<matplotlib.figure.Figure at 0x1a2134dcd0>"
      ]
     },
     "metadata": {},
     "output_type": "display_data"
    }
   ],
   "source": [
    "df = pd.DataFrame({'coefficient-name':range(len(regr.coef_)), 'value':regr.coef_})\n",
    "\n",
    "\n",
    "df = df.sort_values(['value'])[::-1]\n",
    "df[0:100].plot(x='coefficient-name',y='value',kind='bar',figsize=(15,8))"
   ]
  },
  {
   "cell_type": "markdown",
   "metadata": {},
   "source": [
    "f) Compute the $R^2$ with the optimal coefficient found above on 5 folds using cross_val_score and plot the\n",
    "results. Does the model work well on all random subsets?"
   ]
  },
  {
   "cell_type": "code",
   "execution_count": 80,
   "metadata": {},
   "outputs": [
    {
     "data": {
      "image/png": "[encoded data removed]",
      "text/plain": [
       "<matplotlib.figure.Figure at 0x1a2133ef10>"
      ]
     },
     "metadata": {},
     "output_type": "display_data"
    },
    {
     "name": "stdout",
     "output_type": "stream",
     "text": [
      "5 random folds provides similar performance as shown in the histogram below.\n"
     ]
    }
   ],
   "source": [
    "#f)\n",
    "from sklearn.model_selection import cross_val_score\n",
    "\n",
    "regr = Lasso(alpha=alpha_best)\n",
    "cross_scores = cross_val_score(regr, X, y, cv=5)\n",
    "\n",
    "plt.xlabel('lambda')\n",
    "plt.ylabel('R^2')\n",
    "plt.title('5 folds Performance with lambda= ' + str(alpha))\n",
    "plt.bar(range(1,6),cross_scores)\n",
    "plt.show()\n",
    "\n",
    "print \"5 random folds provides similar performance as shown in the histogram below.\""
   ]
  },
  {
   "cell_type": "markdown",
   "metadata": {},
   "source": [
    "f) Repeat e) but using cross validation. Use error bars on the features which are the standard deviation of the \n",
    "coefficiens obtained above. For this problem I\"ll walk you through the code. You just need to apply your optimal\n",
    "$\\alpha$ found above. "
   ]
  },
  {
   "cell_type": "code",
   "execution_count": 81,
   "metadata": {
    "collapsed": true
   },
   "outputs": [],
   "source": [
    "from sklearn.cross_validation import KFold\n",
    "from sklearn import preprocessing\n",
    "def run_cv_coeffs(X,y,clf_class,**kwargs):\n",
    "    # Construct a kfolds object\n",
    "    kf = KFold(len(y),n_folds=5,shuffle=True)\n",
    "    y_pred = y.copy()\n",
    "    coeffs=[]\n",
    "    # Iterate through folds\n",
    "    for train_index, test_index in kf:\n",
    "        \n",
    "        X_train, X_test = X[train_index], X[test_index]\n",
    "        y_train = y[train_index]\n",
    "        # Initialize a classifier with key word arguments\n",
    "        clf = clf_class(**kwargs)\n",
    "        clf.fit(X_train,y_train)\n",
    "        y_pred[test_index] = clf.predict(X_test)\n",
    "        coeffs.append(clf.coef_)\n",
    "    return coeffs\n",
    "\n",
    "\n",
    "\n",
    "scaler = preprocessing.StandardScaler()\n",
    "X_scaled = X.as_matrix().astype(np.float)\n",
    "X_scaled = scaler.fit_transform(X)\n",
    "\n",
    "coeffs=run_cv_coeffs(X_scaled,np.array(y),Lasso,alpha=alpha_best)\n"
   ]
  },
  {
   "cell_type": "code",
   "execution_count": 82,
   "metadata": {
    "collapsed": true
   },
   "outputs": [],
   "source": [
    "def get_coeffs(coeffs):\n",
    "    coeffs_avgd = [(coeffs[0][i] + coeffs[1][i] + coeffs[2][i] + coeffs[3][i] + coeffs[4][i])/5 \n",
    "                   for i in range(0,len(X.columns))]\n",
    "    coeffs_std = [np.std([coeffs[0][i],coeffs[1][i],coeffs[2][i],coeffs[3][i],coeffs[4][i]]) \n",
    "                  for i in range(0,len(X.columns))]\n",
    "    return coeffs_avgd, coeffs_std\n",
    "coeffs_avg,coeffs_std=get_coeffs(coeffs)"
   ]
  },
  {
   "cell_type": "code",
   "execution_count": 83,
   "metadata": {},
   "outputs": [
    {
     "data": {
      "text/plain": [
       "<matplotlib.axes._subplots.AxesSubplot at 0x1a20059290>"
      ]
     },
     "execution_count": 83,
     "metadata": {},
     "output_type": "execute_result"
    },
    {
     "data": {
      "text/plain": [
       "<matplotlib.figure.Figure at 0x1133868d0>"
      ]
     },
     "metadata": {},
     "output_type": "display_data"
    },
    {
     "data": {
      "image/png": "[encoded data removed]",
      "text/plain": [
       "<matplotlib.figure.Figure at 0x1a2028f950>"
      ]
     },
     "metadata": {},
     "output_type": "display_data"
    }
   ],
   "source": [
    "dfCoeffs = pd.DataFrame({'type':X.columns.values, 'coef':coeffs_avg, 'std':coeffs_std})\n",
    "dfCoeffs = dfCoeffs[(dfCoeffs['coef']>1) |(dfCoeffs['coef']<-1) ]\n",
    "plt.figure(figsize=(15,15))\n",
    "dfCoeffs_sorted = dfCoeffs.sort_values(['coef'])[::-1]\n",
    "yerr_vals = dfCoeffs_sorted['std'].values\n",
    "dfCoeffs_sorted.plot(x='type',y='coef',kind='bar',yerr=yerr_vals,figsize=(15,15))"
   ]
  },
  {
   "cell_type": "code",
   "execution_count": null,
   "metadata": {
    "collapsed": true
   },
   "outputs": [],
   "source": []
  },
  {
   "cell_type": "code",
   "execution_count": null,
   "metadata": {
    "collapsed": true
   },
   "outputs": [],
   "source": []
  }
 ],
 "metadata": {
  "anaconda-cloud": {},
  "kernelspec": {
   "display_name": "Python 2",
   "language": "python",
   "name": "python2"
  },
  "language_info": {
   "codemirror_mode": {
    "name": "ipython",
    "version": 2
   },
   "file_extension": ".py",
   "mimetype": "text/x-python",
   "name": "python",
   "nbconvert_exporter": "python",
   "pygments_lexer": "ipython2",
   "version": "2.7.14"
  }
 },
 "nbformat": 4,
 "nbformat_minor": 1
}
